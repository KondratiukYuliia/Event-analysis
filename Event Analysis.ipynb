{
 "cells": [
  {
   "cell_type": "markdown",
   "metadata": {},
   "source": [
    "# Анализ внедрения событий в продукт"
   ]
  },
  {
   "cell_type": "code",
   "execution_count": 1,
   "metadata": {},
   "outputs": [],
   "source": [
    "import pandas as pd\n",
    "import numpy as np\n",
    "import statistics as st\n",
    "import seaborn as sns\n",
    "import matplotlib.pyplot as plt\n",
    "from pylab import rcParams\n",
    "rcParams['figure.figsize'] = 10, 5\n",
    "palette = [\"#ff6d69\", \"#b3e7dc\", \"#eff67b\", \"#24bee8\", \"#a6c64c\", \n",
    "           \"#ff5786\", \"#739c3e\", \"#7eb8da\", \"#ffa5d8\", \"#9579d1\"]\n",
    "sns.set_style(\"whitegrid\")\n",
    "sns.set_palette(palette)\n",
    "import warnings\n",
    "warnings.filterwarnings('ignore')"
   ]
  },
  {
   "cell_type": "markdown",
   "metadata": {},
   "source": [
    "Возьмем данные активностей пользователей приложения. Допустим, было внедрено какое-либо событие(события) в определенный момент времени, например акции или скидки или добавление эксклюзивного материала. Попробуем понять как влияют события на покупательскую способность пользователя, проанализировав эффект всех событий на продукт, а так же по отдельности и сравнить влияние (т.е. определить какое событие было более эффективным)."
   ]
  },
  {
   "cell_type": "code",
   "execution_count": 2,
   "metadata": {},
   "outputs": [],
   "source": [
    "# Загрузим данные\n",
    "raw_data = pd.read_csv('ImitationData.csv')\n",
    "raw_data['date'] =  pd.to_datetime(raw_data['date'], format='%Y-%m-%d')\n",
    "data = raw_data"
   ]
  },
  {
   "cell_type": "markdown",
   "metadata": {},
   "source": [
    "Таблица имеет следующий вид:"
   ]
  },
  {
   "cell_type": "code",
   "execution_count": 3,
   "metadata": {},
   "outputs": [
    {
     "data": {
      "text/html": [
       "<div>\n",
       "<style scoped>\n",
       "    .dataframe tbody tr th:only-of-type {\n",
       "        vertical-align: middle;\n",
       "    }\n",
       "\n",
       "    .dataframe tbody tr th {\n",
       "        vertical-align: top;\n",
       "    }\n",
       "\n",
       "    .dataframe thead th {\n",
       "        text-align: right;\n",
       "    }\n",
       "</style>\n",
       "<table border=\"1\" class=\"dataframe\">\n",
       "  <thead>\n",
       "    <tr style=\"text-align: right;\">\n",
       "      <th></th>\n",
       "      <th>user_id</th>\n",
       "      <th>date</th>\n",
       "      <th>revenue</th>\n",
       "      <th>event_id</th>\n",
       "      <th>price</th>\n",
       "    </tr>\n",
       "  </thead>\n",
       "  <tbody>\n",
       "    <tr>\n",
       "      <th>0</th>\n",
       "      <td>1</td>\n",
       "      <td>2019-11-19</td>\n",
       "      <td>50.788319</td>\n",
       "      <td>NaN</td>\n",
       "      <td>51.69</td>\n",
       "    </tr>\n",
       "    <tr>\n",
       "      <th>1</th>\n",
       "      <td>2</td>\n",
       "      <td>2019-11-19</td>\n",
       "      <td>49.590000</td>\n",
       "      <td>NaN</td>\n",
       "      <td>49.99</td>\n",
       "    </tr>\n",
       "    <tr>\n",
       "      <th>2</th>\n",
       "      <td>3</td>\n",
       "      <td>2019-11-19</td>\n",
       "      <td>0.000000</td>\n",
       "      <td>NaN</td>\n",
       "      <td>0.00</td>\n",
       "    </tr>\n",
       "    <tr>\n",
       "      <th>3</th>\n",
       "      <td>4</td>\n",
       "      <td>2019-11-19</td>\n",
       "      <td>49.088319</td>\n",
       "      <td>NaN</td>\n",
       "      <td>49.99</td>\n",
       "    </tr>\n",
       "    <tr>\n",
       "      <th>4</th>\n",
       "      <td>5</td>\n",
       "      <td>2019-11-19</td>\n",
       "      <td>9.798610</td>\n",
       "      <td>NaN</td>\n",
       "      <td>49.99</td>\n",
       "    </tr>\n",
       "  </tbody>\n",
       "</table>\n",
       "</div>"
      ],
      "text/plain": [
       "   user_id       date    revenue  event_id  price\n",
       "0        1 2019-11-19  50.788319       NaN  51.69\n",
       "1        2 2019-11-19  49.590000       NaN  49.99\n",
       "2        3 2019-11-19   0.000000       NaN   0.00\n",
       "3        4 2019-11-19  49.088319       NaN  49.99\n",
       "4        5 2019-11-19   9.798610       NaN  49.99"
      ]
     },
     "execution_count": 3,
     "metadata": {},
     "output_type": "execute_result"
    }
   ],
   "source": [
    "data.head()"
   ]
  },
  {
   "cell_type": "markdown",
   "metadata": {},
   "source": [
    "В таблице есть идентификатор пользователя, стоимость услуги, которую пользователь приобрел или не приобрел(в таком случае стоимость услуги и выручка равна нулю). Также есть поле даты активности, выручка(стоимость услуги минус налоги/сборы и т.д.) и поле идентификатора события. Всего событий 10. Так же одно событие может иметь разную цену для пользователя. Цена может зависеть, например от региона, комплектации предложения, привелегий клиента и т.д.\n",
    "\n",
    "Если в поле события нет данных, то пользователь приобрел услугу независимо от события(событий), например не активировав его или не получив рассылку, и т.д."
   ]
  },
  {
   "cell_type": "code",
   "execution_count": 4,
   "metadata": {},
   "outputs": [
    {
     "data": {
      "text/plain": [
       "array([nan,  8.,  1.,  3.,  5.,  4.,  6.,  2., 10.,  7.,  9.])"
      ]
     },
     "execution_count": 4,
     "metadata": {},
     "output_type": "execute_result"
    }
   ],
   "source": [
    "# Уникальные события\n",
    "data['event_id'].unique()"
   ]
  },
  {
   "cell_type": "markdown",
   "metadata": {},
   "source": [
    "Допустим, в период с 23 по 26 ноября происходило активное внедрение событий, например доступ к эксклюзивному материалу, который ранее было доступен малой доле потребителей"
   ]
  },
  {
   "cell_type": "code",
   "execution_count": 5,
   "metadata": {},
   "outputs": [],
   "source": [
    "# Зададим границы дат\n",
    "start, end = pd.to_datetime([\"2019-11-23\", \"2019-11-26\"], format='%Y-%m-%d')\n",
    "data = data[(data['date'] >= start) & (data['date'] <= end)]"
   ]
  },
  {
   "cell_type": "markdown",
   "metadata": {},
   "source": [
    "Имеем таблицу с данными с 23 по 26 ноября. Далее считаем метрики.\n",
    "\n",
    "Рассчеты: \n",
    "\n",
    "Depositors - количество уникальных плательщиков\n",
    "\n",
    "Deposits - сумма вкладов пользователей\n",
    "\n",
    "ARPPU = Revenue / Depositors\n",
    "\n",
    "Conversion rate = количество платежей во время событий/ общее число платежей * 100%\n",
    "\n",
    "Avg Deposits per User = Deposits/количество транзакций\n",
    "\n",
    "ARPU = Revenue / All Users"
   ]
  },
  {
   "cell_type": "code",
   "execution_count": 6,
   "metadata": {},
   "outputs": [],
   "source": [
    "all_users = len(data[\"user_id\"])"
   ]
  },
  {
   "cell_type": "markdown",
   "metadata": {},
   "source": [
    "## Сравнение двух событий между собой"
   ]
  },
  {
   "cell_type": "markdown",
   "metadata": {},
   "source": [
    "Посмотрим на два события, например на событие 5 и 6. Сравним эти события и сделаем вывод какое из этих событий является более эффективным. "
   ]
  },
  {
   "cell_type": "markdown",
   "metadata": {},
   "source": [
    "Функция подсчета метрик по событию"
   ]
  },
  {
   "cell_type": "code",
   "execution_count": 7,
   "metadata": {},
   "outputs": [],
   "source": [
    "def calculation_KPIs_segment(event):\n",
    "    \n",
    "    # Кол-во юзеров, которые отреагировали на событие платежем\n",
    "    Depositors = len(data[(data['event_id'] == event) & (data['price'] > 0)]['user_id'])\n",
    "    \n",
    "    # Сумма платежей\n",
    "    Deposits = sum(data[data['event_id'] == event]['price'])\n",
    "    \n",
    "    # Сумма по полю Revenue\n",
    "    Revenue = sum(data[data['event_id'] == event]['revenue'])\n",
    "    \n",
    "    ARPPU = Revenue / Depositors\n",
    "    \n",
    "    # Кол-во юзеров, которые воспользовались событием и внесли платеж / всех юзеров\n",
    "    ConversRate = (Depositors / all_users)*100\n",
    "    \n",
    "    # Сумма платежей / кол-во заплативщих юзеров\n",
    "    AvgDepPerUser = Deposits / Depositors\n",
    "    \n",
    "    # Доход по событию / доход по всем событиям \n",
    "    PercentRevenue = (Revenue / sum(data[pd.notnull(data[\"event_id\"])]['revenue']))*100\n",
    "    \n",
    "    ARPU = Revenue/all_users\n",
    "    \n",
    "    # Формируем датафрейм, что бы занести в него результаты\n",
    "    total = pd.DataFrame({'Depositors': Depositors, 'Deposits': Deposits, 'Revenue' : Revenue, 'ARPPU': ARPPU, \n",
    "                             'Conversion rate': ConversRate, 'Avg Deposits per User': AvgDepPerUser, \n",
    "                             '% of Revenue': PercentRevenue, 'ARPU': ARPU}, index=[0])\n",
    "    return total"
   ]
  },
  {
   "cell_type": "markdown",
   "metadata": {},
   "source": [
    "Посмотрим на результаты по метрикам для события 5"
   ]
  },
  {
   "cell_type": "code",
   "execution_count": 8,
   "metadata": {},
   "outputs": [
    {
     "data": {
      "text/html": [
       "<div>\n",
       "<style scoped>\n",
       "    .dataframe tbody tr th:only-of-type {\n",
       "        vertical-align: middle;\n",
       "    }\n",
       "\n",
       "    .dataframe tbody tr th {\n",
       "        vertical-align: top;\n",
       "    }\n",
       "\n",
       "    .dataframe thead th {\n",
       "        text-align: right;\n",
       "    }\n",
       "</style>\n",
       "<table border=\"1\" class=\"dataframe\">\n",
       "  <thead>\n",
       "    <tr style=\"text-align: right;\">\n",
       "      <th></th>\n",
       "      <th>Depositors</th>\n",
       "      <th>Deposits</th>\n",
       "      <th>Revenue</th>\n",
       "      <th>ARPPU</th>\n",
       "      <th>Conversion rate</th>\n",
       "      <th>Avg Deposits per User</th>\n",
       "      <th>% of Revenue</th>\n",
       "      <th>ARPU</th>\n",
       "    </tr>\n",
       "  </thead>\n",
       "  <tbody>\n",
       "    <tr>\n",
       "      <th>0</th>\n",
       "      <td>248</td>\n",
       "      <td>4931.22</td>\n",
       "      <td>4007.454409</td>\n",
       "      <td>16.15909</td>\n",
       "      <td>2.926599</td>\n",
       "      <td>19.883952</td>\n",
       "      <td>3.591447</td>\n",
       "      <td>0.472912</td>\n",
       "    </tr>\n",
       "  </tbody>\n",
       "</table>\n",
       "</div>"
      ],
      "text/plain": [
       "   Depositors  Deposits      Revenue     ARPPU  Conversion rate  \\\n",
       "0         248   4931.22  4007.454409  16.15909         2.926599   \n",
       "\n",
       "   Avg Deposits per User  % of Revenue      ARPU  \n",
       "0              19.883952      3.591447  0.472912  "
      ]
     },
     "execution_count": 8,
     "metadata": {},
     "output_type": "execute_result"
    }
   ],
   "source": [
    "kpi_segment_first = calculation_KPIs_segment(5)\n",
    "kpi_segment_first"
   ]
  },
  {
   "cell_type": "markdown",
   "metadata": {},
   "source": [
    "А так же для события 6"
   ]
  },
  {
   "cell_type": "code",
   "execution_count": 9,
   "metadata": {},
   "outputs": [
    {
     "data": {
      "text/html": [
       "<div>\n",
       "<style scoped>\n",
       "    .dataframe tbody tr th:only-of-type {\n",
       "        vertical-align: middle;\n",
       "    }\n",
       "\n",
       "    .dataframe tbody tr th {\n",
       "        vertical-align: top;\n",
       "    }\n",
       "\n",
       "    .dataframe thead th {\n",
       "        text-align: right;\n",
       "    }\n",
       "</style>\n",
       "<table border=\"1\" class=\"dataframe\">\n",
       "  <thead>\n",
       "    <tr style=\"text-align: right;\">\n",
       "      <th></th>\n",
       "      <th>Depositors</th>\n",
       "      <th>Deposits</th>\n",
       "      <th>Revenue</th>\n",
       "      <th>ARPPU</th>\n",
       "      <th>Conversion rate</th>\n",
       "      <th>Avg Deposits per User</th>\n",
       "      <th>% of Revenue</th>\n",
       "      <th>ARPU</th>\n",
       "    </tr>\n",
       "  </thead>\n",
       "  <tbody>\n",
       "    <tr>\n",
       "      <th>0</th>\n",
       "      <td>433</td>\n",
       "      <td>6449.47</td>\n",
       "      <td>5415.174479</td>\n",
       "      <td>12.506177</td>\n",
       "      <td>5.109747</td>\n",
       "      <td>14.89485</td>\n",
       "      <td>4.853034</td>\n",
       "      <td>0.639034</td>\n",
       "    </tr>\n",
       "  </tbody>\n",
       "</table>\n",
       "</div>"
      ],
      "text/plain": [
       "   Depositors  Deposits      Revenue      ARPPU  Conversion rate  \\\n",
       "0         433   6449.47  5415.174479  12.506177         5.109747   \n",
       "\n",
       "   Avg Deposits per User  % of Revenue      ARPU  \n",
       "0               14.89485      4.853034  0.639034  "
      ]
     },
     "execution_count": 9,
     "metadata": {},
     "output_type": "execute_result"
    }
   ],
   "source": [
    "kpi_segment_second = calculation_KPIs_segment(6)\n",
    "kpi_segment_second"
   ]
  },
  {
   "cell_type": "markdown",
   "metadata": {},
   "source": [
    "Работа функции показала, что событие 6 явилось более популярным, так как им воспользовалось больше пользователей. Соответственно метрики Deposits, Revenue, % of Revenue, ARPU и Conversion rate также выше чем для события 5. Средний платеж и ARPPU для события 5 больше, что говорит о том, что цена услуги для 5 события была выше чем для 6. Проверим так ли это. Посмотрим на распределения цен для ивентов:"
   ]
  },
  {
   "cell_type": "code",
   "execution_count": 10,
   "metadata": {},
   "outputs": [
    {
     "data": {
      "image/png": "[encoded data removed]",
      "text/plain": [
       "<Figure size 432x288 with 1 Axes>"
      ]
     },
     "metadata": {
      "needs_background": "light"
     },
     "output_type": "display_data"
    }
   ],
   "source": [
    "# Объединим выборку с событием 5 и событием 6 в один датафрейм.\n",
    "first = data[(data['event_id'] == 5) & (data['price'] > 0)].reset_index()\n",
    "second = data[(data['event_id'] == 6) & (data['price'] > 0)].reset_index()\n",
    "\n",
    "first_and_second_events = pd.concat([first, second])\n",
    "\n",
    "sns.distplot(first_and_second_events[first_and_second_events['event_id'] == 5]['price'],  kde=False, label='5 evet')\n",
    "sns.distplot(first_and_second_events[first_and_second_events['event_id'] == 6]['price'],  kde=False, label='6 evet')\n",
    "plt.gcf().autofmt_xdate()\n",
    "plt.legend(bbox_to_anchor=(1.05, 1), loc=2, borderaxespad=0.)\n",
    "plt.title('Распределение цен для 5 и 6 события');"
   ]
  },
  {
   "cell_type": "markdown",
   "metadata": {},
   "source": [
    "Распределение показало, что ценаы 5 ивента выше чем 6, но попробуем посмотреть на медианы. Среднее значение не смотрим, так как распределение цены не симметричное и медиана лучше характеризует среднее значение в этом случае."
   ]
  },
  {
   "cell_type": "code",
   "execution_count": 11,
   "metadata": {},
   "outputs": [
    {
     "name": "stdout",
     "output_type": "stream",
     "text": [
      "Средняя стоимость для события 5 =  9.99\n",
      "Средняя стоимость для события 6 =  9.99\n"
     ]
    }
   ],
   "source": [
    "print(\"Средняя стоимость для события 5 = \", \n",
    "      st.median(first_and_second_events[first_and_second_events['event_id'] == 5]['price']))\n",
    "print(\"Средняя стоимость для события 6 = \", \n",
    "      st.median(first_and_second_events[first_and_second_events['event_id'] == 6]['price']))"
   ]
  },
  {
   "cell_type": "markdown",
   "metadata": {},
   "source": [
    "Средняя стоимость для ивентов имеет одинаковую цену, следовательно метрику Avg Deposits per User и ARPPU анализируем следующим образов: диапазон цен для 5 ивента более расширен чем для 6, поэтому средний чек и выручка за платящего пользователя у 5 выше.\n",
    "Посмотрим на диаграмму рассеяния:\n"
   ]
  },
  {
   "cell_type": "code",
   "execution_count": 12,
   "metadata": {},
   "outputs": [
    {
     "data": {
      "image/png": "[encoded data removed]",
      "text/plain": [
       "<Figure size 409.875x360 with 6 Axes>"
      ]
     },
     "metadata": {
      "needs_background": "light"
     },
     "output_type": "display_data"
    }
   ],
   "source": [
    "sns.pairplot(first_and_second_events, hue=\"event_id\", vars = ['price', 'revenue'],\n",
    "             markers=[\"D\", \"s\"], palette=sns.color_palette(palette, 10))\n",
    "plt.title('Отношения между двумя ивентами')\n",
    "plt.gcf().autofmt_xdate()"
   ]
  },
  {
   "cell_type": "markdown",
   "metadata": {},
   "source": [
    "Точечная диаграмма показывает, что данных для 6 ивента больше,что максимальный показатель по цене\\выручке пренадлежит 5 ивенту. Также видна корреляция цены-выручки. На диагонали показаны графики плотности цен и выручки.\n",
    "\n",
    "Далее посмотрим выручку по дням:"
   ]
  },
  {
   "cell_type": "code",
   "execution_count": 13,
   "metadata": {
    "scrolled": true
   },
   "outputs": [
    {
     "data": {
      "image/png": "[encoded data removed]",
      "text/plain": [
       "<Figure size 432x288 with 1 Axes>"
      ]
     },
     "metadata": {
      "needs_background": "light"
     },
     "output_type": "display_data"
    }
   ],
   "source": [
    "plt.figure()\n",
    "ax = sns.barplot(data=first_and_second_events, x=\"date\", y=\"revenue\", hue=\"event_id\", ci = None, estimator=sum)\n",
    "ax.set_ylabel('Revenue')\n",
    "ax.set_xticklabels(first_and_second_events['date'].dt.strftime('%d-%m').unique(), rotation='vertical')\n",
    "plt.gcf().autofmt_xdate()\n",
    "plt.legend(bbox_to_anchor=(1.05, 1), loc=2, borderaxespad=0.)\n",
    "plt.title('Дневная выручка по двум ивентам')\n",
    "plt.show()"
   ]
  },
  {
   "cell_type": "markdown",
   "metadata": {},
   "source": [
    "Видно, что вначале 5 ивент имел большую выручку, но далее убывал и 26 ноября вообще не приобрелся. Такую ситуацию следует изучить, возможно у пользователей были проблемы с доступом\\неполадки на серере и т.д. Ивент 6 показывает лучший результат. Поэтому пока он более предпочтительней.\n",
    "\n",
    "Далее посмотрим на box plot:"
   ]
  },
  {
   "cell_type": "code",
   "execution_count": 14,
   "metadata": {},
   "outputs": [
    {
     "data": {
      "image/png": "[encoded data removed]",
      "text/plain": [
       "<Figure size 432x288 with 1 Axes>"
      ]
     },
     "metadata": {
      "needs_background": "light"
     },
     "output_type": "display_data"
    }
   ],
   "source": [
    "sns.boxplot(x=\"event_id\", y=\"revenue\", data=first_and_second_events)\n",
    "plt.title('Отношения между ивентами')\n",
    "plt.gcf().autofmt_xdate();"
   ]
  },
  {
   "cell_type": "markdown",
   "metadata": {},
   "source": [
    "Сложно анализировать данный график из-за \"выбросов\" - очень больших отклонений от среднего. Попробуем очистить данные от слишком больших единичных платежей, что бы посмотреть усредненные показатели. Более подробней об очистке: https://www.geeksforgeeks.org/interquartile-range-to-detect-outliers-in-data/"
   ]
  },
  {
   "cell_type": "markdown",
   "metadata": {},
   "source": [
    "Функция для очистки данных:"
   ]
  },
  {
   "cell_type": "code",
   "execution_count": 15,
   "metadata": {},
   "outputs": [],
   "source": [
    "def outlier_hunt(my_data):\n",
    "\n",
    "    # Detect and replace the outliers\n",
    "\n",
    "    mean_data = np.nanmean(my_data, axis=0)\n",
    "    Q1 = my_data.quantile(0.25)\n",
    "    Q3 = my_data.quantile(0.75)\n",
    "    IQR = (Q3 - Q1)*1.5\n",
    "    index_detect_1 = np.where(my_data < Q1 - IQR)\n",
    "    index_detect_2 = np.where(my_data > Q3 + IQR)\n",
    "    index = np.concatenate((index_detect_1, index_detect_2), axis=1)\n",
    "    for i in index:\n",
    "        my_data[i] = mean_data\n",
    "    return my_data"
   ]
  },
  {
   "cell_type": "code",
   "execution_count": 16,
   "metadata": {},
   "outputs": [],
   "source": [
    "# Очищаем данные\n",
    "first['revenue'] = outlier_hunt(first['revenue'])\n",
    "second['revenue'] = outlier_hunt(second['revenue'])\n",
    "\n",
    "new = pd.concat([first, second])"
   ]
  },
  {
   "cell_type": "code",
   "execution_count": 17,
   "metadata": {},
   "outputs": [
    {
     "data": {
      "image/png": "[encoded data removed]",
      "text/plain": [
       "<Figure size 432x288 with 1 Axes>"
      ]
     },
     "metadata": {
      "needs_background": "light"
     },
     "output_type": "display_data"
    }
   ],
   "source": [
    "sns.boxplot(x=\"event_id\", y=\"revenue\", data=new)\n",
    "plt.title('Отношения между ивентами без больших платежей')\n",
    "plt.gcf().autofmt_xdate();"
   ]
  },
  {
   "cell_type": "markdown",
   "metadata": {},
   "source": [
    "Имеем подтверждение вышеуказанным выводам. Видно, что медиана выручки у 5 ивента больше, а тек же диапазон смещен в более дорогостоящий сегмент."
   ]
  },
  {
   "cell_type": "markdown",
   "metadata": {},
   "source": [
    "Анализ метрик показал, что 6 событие более эффективно, так как в него было задействовано больше пользователей, следовательно, метрики монетизации были выше, кроме ARPPU. Но так же следует понять почему 5 событие было не так популярно и в последний день вообще не использовалось, возможно, недостаток рекламы, неактуальность предложения, дороговизна, проблемы с сервером и другие нюансы отталкивают пользователя. И в дальнейшем обновлении данное событие может стать более эффективным."
   ]
  },
  {
   "cell_type": "markdown",
   "metadata": {},
   "source": [
    "## Анализ всех событий за период"
   ]
  },
  {
   "cell_type": "markdown",
   "metadata": {},
   "source": [
    "Функция подсчета метрик для всех событий"
   ]
  },
  {
   "cell_type": "code",
   "execution_count": 18,
   "metadata": {},
   "outputs": [],
   "source": [
    "def calculation_KPIs_all():\n",
    "    \n",
    "    # Кол-во юзеров, которое отреагировали на события платежем\n",
    "    Depositors = len(data[pd.notnull(data[\"event_id\"]) & (data['price'] > 0)]['user_id'])\n",
    "    \n",
    "    # Суммирование платежей по всем событиям \n",
    "    Deposits = sum(data[pd.notnull(data[\"event_id\"])]['price'])\n",
    "    \n",
    "    Revenue = sum(data[pd.notnull(data[\"event_id\"])]['revenue'])\n",
    "    \n",
    "    ARPPU = Revenue / Depositors\n",
    "    \n",
    "    # Кол-во юзеров, которые воспользовались каким-либо событием / на всех юзеров\n",
    "    ConversRate = (Depositors / all_users)*100\n",
    "    \n",
    "    AvgDepPerUser = Deposits / Depositors\n",
    "    \n",
    "    ARPU = Revenue/all_users\n",
    "    \n",
    "    total = pd.DataFrame({'Depositors': Depositors, 'Deposits': Deposits, 'Revenue' : Revenue, 'ARPPU': ARPPU, \n",
    "                          'Conversion rate': ConversRate, 'Avg Deposits per User': AvgDepPerUser,  'ARPU': ARPU}, index=[0])\n",
    "    return total"
   ]
  },
  {
   "cell_type": "markdown",
   "metadata": {},
   "source": [
    "Результаты функций для всех событий"
   ]
  },
  {
   "cell_type": "code",
   "execution_count": 19,
   "metadata": {},
   "outputs": [
    {
     "data": {
      "text/html": [
       "<div>\n",
       "<style scoped>\n",
       "    .dataframe tbody tr th:only-of-type {\n",
       "        vertical-align: middle;\n",
       "    }\n",
       "\n",
       "    .dataframe tbody tr th {\n",
       "        vertical-align: top;\n",
       "    }\n",
       "\n",
       "    .dataframe thead th {\n",
       "        text-align: right;\n",
       "    }\n",
       "</style>\n",
       "<table border=\"1\" class=\"dataframe\">\n",
       "  <thead>\n",
       "    <tr style=\"text-align: right;\">\n",
       "      <th></th>\n",
       "      <th>Depositors</th>\n",
       "      <th>Deposits</th>\n",
       "      <th>Revenue</th>\n",
       "      <th>ARPPU</th>\n",
       "      <th>Conversion rate</th>\n",
       "      <th>Avg Deposits per User</th>\n",
       "      <th>ARPU</th>\n",
       "    </tr>\n",
       "  </thead>\n",
       "  <tbody>\n",
       "    <tr>\n",
       "      <th>0</th>\n",
       "      <td>5534</td>\n",
       "      <td>127429.86</td>\n",
       "      <td>111583.267818</td>\n",
       "      <td>20.163222</td>\n",
       "      <td>65.305641</td>\n",
       "      <td>23.026718</td>\n",
       "      <td>13.167721</td>\n",
       "    </tr>\n",
       "  </tbody>\n",
       "</table>\n",
       "</div>"
      ],
      "text/plain": [
       "   Depositors   Deposits        Revenue      ARPPU  Conversion rate  \\\n",
       "0        5534  127429.86  111583.267818  20.163222        65.305641   \n",
       "\n",
       "   Avg Deposits per User       ARPU  \n",
       "0              23.026718  13.167721  "
      ]
     },
     "execution_count": 19,
     "metadata": {},
     "output_type": "execute_result"
    }
   ],
   "source": [
    "kpi_all = calculation_KPIs_all()\n",
    "kpi_all"
   ]
  },
  {
   "cell_type": "markdown",
   "metadata": {},
   "source": [
    "Вывод результата показывает неплохие показатели, но для полноты оценки необходимо сравнить показатели до запуска и после. Так можно понять увеличили ли мы событиями монетизацию, или события никак не повлияли. Пока остановимся на данном результате и проанализируем все события.\n",
    "\n",
    "Посмотрим на рафик популярности событий:"
   ]
  },
  {
   "cell_type": "code",
   "execution_count": 20,
   "metadata": {},
   "outputs": [
    {
     "data": {
      "image/png": "[encoded data removed]",
      "text/plain": [
       "<Figure size 432x288 with 1 Axes>"
      ]
     },
     "metadata": {
      "needs_background": "light"
     },
     "output_type": "display_data"
    }
   ],
   "source": [
    "sns.countplot(data['event_id'])\n",
    "plt.title('Количество пользователь на ивент')\n",
    "plt.gcf().autofmt_xdate()"
   ]
  },
  {
   "cell_type": "markdown",
   "metadata": {},
   "source": [
    "Видно, что самое популярное событие 10. Также собятия 1, 2, 3, 4 и 8 оказались с наименьшим количеством задействованнх пользователей. Далее посмотрим выручку на ивент:"
   ]
  },
  {
   "cell_type": "code",
   "execution_count": 21,
   "metadata": {},
   "outputs": [
    {
     "data": {
      "image/png": "[encoded data removed]",
      "text/plain": [
       "<Figure size 432x288 with 1 Axes>"
      ]
     },
     "metadata": {
      "needs_background": "light"
     },
     "output_type": "display_data"
    }
   ],
   "source": [
    "plt.figure()\n",
    "ax = sns.barplot(data=data, x=\"event_id\", y=\"revenue\", ci = None, estimator=sum)\n",
    "plt.gcf().autofmt_xdate()\n",
    "plt.title('Выручка по ивентам')\n",
    "plt.show()"
   ]
  },
  {
   "cell_type": "markdown",
   "metadata": {},
   "source": [
    "Видно, что данный график соответствует графику популярности. Больше пользователей - больше и выручка.\n",
    "\n",
    "Далее посмотрим на среднюю стоимость услуг по событиям:"
   ]
  },
  {
   "cell_type": "code",
   "execution_count": 22,
   "metadata": {},
   "outputs": [
    {
     "data": {
      "image/png": "[encoded data removed]",
      "text/plain": [
       "<Figure size 432x288 with 1 Axes>"
      ]
     },
     "metadata": {
      "needs_background": "light"
     },
     "output_type": "display_data"
    }
   ],
   "source": [
    "plt.figure()\n",
    "ax = sns.barplot(data=data, x=\"event_id\", y=\"price\", ci = None)\n",
    "plt.gcf().autofmt_xdate()\n",
    "plt.title('Средняя стоимость услуг')\n",
    "plt.show()"
   ]
  },
  {
   "cell_type": "markdown",
   "metadata": {},
   "source": [
    "Данный график показывает, что вовлеченность пользователя не зависит от цены услуги, например событие 1 и событие 10 имеют одинаково высокую стоимость, но событие 10 является самым популярным и прибыльным; событие 2 имеет наименьшую стоимость, но оно не популярно. Тогда в данном случае можно сказать, что вовлеченность пользователей зависит от качества\\наполнения события.\n",
    "\n",
    "Далее посмотрим как пользователи покупали услуги по дням:"
   ]
  },
  {
   "cell_type": "code",
   "execution_count": 23,
   "metadata": {},
   "outputs": [
    {
     "data": {
      "image/png": "[encoded data removed]",
      "text/plain": [
       "<Figure size 432x288 with 1 Axes>"
      ]
     },
     "metadata": {
      "needs_background": "light"
     },
     "output_type": "display_data"
    }
   ],
   "source": [
    "plt.figure()\n",
    "ax = sns.barplot(data=data, x=\"date\", y=\"revenue\", hue=\"event_id\", saturation=0.9, ci = None, estimator=sum)\n",
    "ax.set_ylabel('Revenue')\n",
    "ax.set_xticklabels(data['date'].dt.strftime('%d-%m').unique(), rotation='vertical')\n",
    "plt.legend(bbox_to_anchor=(1.05, 1), loc=2, borderaxespad=0.)\n",
    "plt.title('Выручка за день по ивенту')\n",
    "plt.gcf().autofmt_xdate()\n",
    "plt.show()"
   ]
  },
  {
   "cell_type": "markdown",
   "metadata": {},
   "source": [
    "Видно, что событие 10 имеет наибольшую выручку, но также присутствуют события, которые не использовались в какой-то день вообще. Следует это детальней уточнить, например, не было ли это проблемой сервера и т.д.\n",
    "\n",
    "Ниже приведен аналогичный график линейного вида:"
   ]
  },
  {
   "cell_type": "code",
   "execution_count": 24,
   "metadata": {},
   "outputs": [
    {
     "data": {
      "image/png": "[encoded data removed]",
      "text/plain": [
       "<Figure size 432x288 with 1 Axes>"
      ]
     },
     "metadata": {
      "needs_background": "light"
     },
     "output_type": "display_data"
    }
   ],
   "source": [
    "ax = sns.lineplot(x=\"date\", y=\"revenue\", hue=\"event_id\",\n",
    "                  data=data, legend = 'full', palette=sns.color_palette(palette, 10),\n",
    "                  ci = None, estimator=sum)\n",
    "plt.legend(bbox_to_anchor=(1.05, 1), loc=2, borderaxespad=0.)\n",
    "plt.title('Выручка за день по ивенту')\n",
    "plt.gcf().autofmt_xdate()"
   ]
  },
  {
   "cell_type": "markdown",
   "metadata": {},
   "source": [
    "Далее посмотрим на box plot:"
   ]
  },
  {
   "cell_type": "code",
   "execution_count": 25,
   "metadata": {},
   "outputs": [
    {
     "data": {
      "image/png": "[encoded data removed]",
      "text/plain": [
       "<Figure size 432x288 with 1 Axes>"
      ]
     },
     "metadata": {
      "needs_background": "light"
     },
     "output_type": "display_data"
    }
   ],
   "source": [
    "sns.boxplot(x=\"event_id\", y=\"revenue\", data=data)\n",
    "plt.title('Отношения между всеми ивентами')\n",
    "plt.gcf().autofmt_xdate();"
   ]
  },
  {
   "cell_type": "markdown",
   "metadata": {},
   "source": [
    "Снова прибегнем к очистке данных для лучшей визуализации данных"
   ]
  },
  {
   "cell_type": "code",
   "execution_count": 26,
   "metadata": {},
   "outputs": [],
   "source": [
    "# Очистка данных для анализа усредненных данных\n",
    "event = [1, 2, 3, 4, 5, 6, 7, 8, 9, 10]\n",
    "data_without_outliers = []\n",
    "for i in event:\n",
    "    by_event = data[(data['event_id'] == i) & (data['price'] > 0)].reset_index()\n",
    "    by_event['revenue'] = outlier_hunt(by_event['revenue'])\n",
    "    data_without_outliers.append(by_event)\n",
    "for_boxplot = pd.concat(data_without_outliers)"
   ]
  },
  {
   "cell_type": "markdown",
   "metadata": {},
   "source": [
    "График на очищенных данных:"
   ]
  },
  {
   "cell_type": "code",
   "execution_count": 27,
   "metadata": {},
   "outputs": [
    {
     "data": {
      "image/png": "[encoded data removed]",
      "text/plain": [
       "<Figure size 432x288 with 1 Axes>"
      ]
     },
     "metadata": {
      "needs_background": "light"
     },
     "output_type": "display_data"
    }
   ],
   "source": [
    "sns.boxplot(x=\"event_id\", y=\"revenue\", data=for_boxplot)\n",
    "plt.title('Отношения между всеми ивентами без выбросов')\n",
    "plt.gcf().autofmt_xdate();"
   ]
  },
  {
   "attachments": {
    "Screenshot_1.png": {
     "image/png": "[encoded data removed]"
    }
   },
   "cell_type": "markdown",
   "metadata": {},
   "source": [
    "Видно, что для 8, 9 и 10 событий медианы почти одинаковые, но максимальное значение у события 10. Также пользователи всегда покупали услуги событий 2, 4, 5, 9 и 10, так как, например, событие 1 имеет значение в нуле, что говорит о не покупке:![Screenshot_1.png](attachment:Screenshot_1.png)"
   ]
  },
  {
   "cell_type": "markdown",
   "metadata": {},
   "source": [
    "Посмотрим общий доход по дням:"
   ]
  },
  {
   "cell_type": "code",
   "execution_count": 28,
   "metadata": {},
   "outputs": [],
   "source": [
    "# Посмотрим на доход по дням. Для этого проводим группировку по дате.\n",
    "line_sum = pd.DataFrame(data.groupby(['date'])['revenue'].sum())\n",
    "line_avg = pd.DataFrame(data.groupby(['date'])['revenue'].mean())"
   ]
  },
  {
   "cell_type": "code",
   "execution_count": 29,
   "metadata": {},
   "outputs": [
    {
     "data": {
      "image/png": "[encoded data removed]",
      "text/plain": [
       "<Figure size 432x288 with 1 Axes>"
      ]
     },
     "metadata": {
      "needs_background": "light"
     },
     "output_type": "display_data"
    },
    {
     "data": {
      "image/png": "[encoded data removed]",
      "text/plain": [
       "<Figure size 432x288 with 1 Axes>"
      ]
     },
     "metadata": {
      "needs_background": "light"
     },
     "output_type": "display_data"
    }
   ],
   "source": [
    "line_sum.plot(title = 'Выручка по дням', color = '#ff6d69');\n",
    "line_avg.plot(title = 'Средняя выручка по дням', color = '#ff6d69');"
   ]
  },
  {
   "cell_type": "markdown",
   "metadata": {},
   "source": [
    "Видно, что выручка убывает. Это может говорить о том, что основная масса пользователей сделала покупку в первый день старта событий. Но прерывное поведение событий говорит, что еще нужно сделать проверку на технические аспекты(сервер, доступ и т.д.)"
   ]
  },
  {
   "cell_type": "markdown",
   "metadata": {},
   "source": [
    "# Анализ результата и постпокупательной активности"
   ]
  },
  {
   "cell_type": "markdown",
   "metadata": {},
   "source": [
    "Для того, что бы проанализировать результат и постпокупательную активность неоходимо посмотреть данные платежей до начала событий и данные платежей после окончания событий. Так как события длились 4 дня проанализируем, например, 4 дня до начала событий и 4 дня после событий."
   ]
  },
  {
   "cell_type": "code",
   "execution_count": 30,
   "metadata": {},
   "outputs": [],
   "source": [
    "# Задаем интеравы\n",
    "first_day_b, last_day_b = pd.to_datetime([\"2019-11-19\", \"2019-11-22\"], format='%Y-%m-%d')\n",
    "first_day_a, last_day_a = pd.to_datetime([\"2019-11-27\", \"2019-11-30\"], format='%Y-%m-%d')"
   ]
  },
  {
   "cell_type": "code",
   "execution_count": 31,
   "metadata": {},
   "outputs": [],
   "source": [
    "# Создаем отдельные фреймы для данных до и после событий\n",
    "before_sales = raw_data[(raw_data['date'] >= first_day_b) & (raw_data['date'] <= last_day_b)]\n",
    "after_sales = raw_data[(raw_data['date'] >= first_day_a) & (raw_data['date'] <= last_day_a)]"
   ]
  },
  {
   "cell_type": "markdown",
   "metadata": {},
   "source": [
    "Посмотрим некоторые метрики:"
   ]
  },
  {
   "cell_type": "markdown",
   "metadata": {},
   "source": [
    "Revenue"
   ]
  },
  {
   "cell_type": "code",
   "execution_count": 32,
   "metadata": {},
   "outputs": [
    {
     "name": "stdout",
     "output_type": "stream",
     "text": [
      "Выручка на 19, 20, 21, 22 ноября 51437.16990750564 \n",
      "Выручка на 23, 24, 25, 26 ноября 111583.26781793157 \n",
      "Выручка на 27, 28, 29, 30 ноября 49773.388633843875\n"
     ]
    }
   ],
   "source": [
    "revenue_before = sum(before_sales['revenue'])\n",
    "revenue_after = sum(after_sales['revenue'])\n",
    "print('Выручка на 19, 20, 21, 22 ноября', revenue_before,\n",
    "      '\\nВыручка на 23, 24, 25, 26 ноября', kpi_all['Revenue'].loc[0],\n",
    "      '\\nВыручка на 27, 28, 29, 30 ноября', revenue_after)"
   ]
  },
  {
   "cell_type": "markdown",
   "metadata": {},
   "source": [
    "Виден прирост выручки во время событий, а также спад после. Это обусловлено, тем, что многие пользователи купили ресурс во время событий, а новый потребуеться ему через какое-то время."
   ]
  },
  {
   "cell_type": "markdown",
   "metadata": {},
   "source": [
    "Depositors"
   ]
  },
  {
   "cell_type": "code",
   "execution_count": 33,
   "metadata": {},
   "outputs": [
    {
     "name": "stdout",
     "output_type": "stream",
     "text": [
      "Платящих пользователей до событий: 2655 \n",
      "Платящих пользователей во время событий: 5534 \n",
      "Платящих пользователей после событий: 2788\n"
     ]
    }
   ],
   "source": [
    "print('Платящих пользователей до событий:', len(before_sales[before_sales['price'] > 0]['user_id']), \n",
    "      '\\nПлатящих пользователей во время событий:', kpi_all['Depositors'].loc[0],\n",
    "      '\\nПлатящих пользователей после событий:', len(after_sales[after_sales['price'] > 0]['user_id']))"
   ]
  },
  {
   "cell_type": "markdown",
   "metadata": {},
   "source": [
    "Видно, что во время событий пользователи совершали больше платежей. Но так же показатель метрики после событий выше чем до событий, хотя выручка меньше. Это говорит о том, что пользователи совершают менее дорогие покупки после событий чем до событий."
   ]
  },
  {
   "cell_type": "markdown",
   "metadata": {},
   "source": [
    "ARPPU"
   ]
  },
  {
   "cell_type": "code",
   "execution_count": 34,
   "metadata": {},
   "outputs": [
    {
     "name": "stdout",
     "output_type": "stream",
     "text": [
      "ARPPU before sales: 14.400103557532374 \n",
      "ARPPU during sales: 20.163221506673576 \n",
      "ARPPU after sales: 13.039923666189122\n"
     ]
    }
   ],
   "source": [
    "print('ARPPU before sales:', sum(before_sales['revenue'])/len(before_sales), \n",
    "      '\\nARPPU during sales:', kpi_all['ARPPU'].loc[0],\n",
    "      '\\nARPPU after sales:', sum(after_sales['revenue'])/len(after_sales))"
   ]
  },
  {
   "cell_type": "markdown",
   "metadata": {},
   "source": [
    "Метрика показывает, что внедрение событий положительно повлияло на продукт. Виден прирост метрики. После событий метрика убывает, что не странно после проведения акций, скидок и т.д. \n",
    "\n",
    "В целом имеем положительный результат. Внедрение событий показало прирост метрик монетизации. Так же следует уточнить не было ли проблем с серверов, так как некоторые события имели резкий спад или вовсе не использовались в какой-то день. Если технических проблем не было обнаружено, то такие непопулярные события в дальнейшем можно не использовать, а сконцентрироваться на прибыльных, улучшая и обновляя их."
   ]
  }
 ],
 "metadata": {
  "kernelspec": {
   "display_name": "Python 3",
   "language": "python",
   "name": "python3"
  },
  "language_info": {
   "codemirror_mode": {
    "name": "ipython",
    "version": 3
   },
   "file_extension": ".py",
   "mimetype": "text/x-python",
   "name": "python",
   "nbconvert_exporter": "python",
   "pygments_lexer": "ipython3",
   "version": "3.7.3"
  },
  "toc": {
   "base_numbering": 1,
   "nav_menu": {},
   "number_sections": false,
   "sideBar": true,
   "skip_h1_title": false,
   "title_cell": "Table of Contents",
   "title_sidebar": "Contents",
   "toc_cell": false,
   "toc_position": {
    "height": "calc(100% - 180px)",
    "left": "10px",
    "top": "150px",
    "width": "169.2px"
   },
   "toc_section_display": true,
   "toc_window_display": true
  },
  "varInspector": {
   "cols": {
    "lenName": 16,
    "lenType": 16,
    "lenVar": 40
   },
   "kernels_config": {
    "python": {
     "delete_cmd_postfix": "",
     "delete_cmd_prefix": "del ",
     "library": "var_list.py",
     "varRefreshCmd": "print(var_dic_list())"
    },
    "r": {
     "delete_cmd_postfix": ") ",
     "delete_cmd_prefix": "rm(",
     "library": "var_list.r",
     "varRefreshCmd": "cat(var_dic_list()) "
    }
   },
   "types_to_exclude": [
    "module",
    "function",
    "builtin_function_or_method",
    "instance",
    "_Feature"
   ],
   "window_display": false
  }
 },
 "nbformat": 4,
 "nbformat_minor": 2
}
