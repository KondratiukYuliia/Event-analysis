{
 "cells": [
  {
   "cell_type": "markdown",
   "metadata": {},
   "source": [
    "# Analysis of the implementation of events in the product"
   ]
  },
  {
   "cell_type": "code",
   "execution_count": 1,
   "metadata": {},
   "outputs": [],
   "source": [
    "import pandas as pd\n",
    "import numpy as np\n",
    "import statistics as st\n",
    "import seaborn as sns\n",
    "import matplotlib.pyplot as plt\n",
    "from pylab import rcParams\n",
    "rcParams['figure.figsize'] = 10, 5\n",
    "palette = [\"#ff6d69\", \"#b3e7dc\", \"#eff67b\", \"#24bee8\", \"#a6c64c\", \n",
    "           \"#ff5786\", \"#739c3e\", \"#7eb8da\", \"#ffa5d8\", \"#9579d1\"]\n",
    "sns.set_style(\"whitegrid\")\n",
    "sns.set_palette(palette)\n",
    "import warnings\n",
    "warnings.filterwarnings('ignore')"
   ]
  },
  {
   "cell_type": "markdown",
   "metadata": {},
   "source": [
    "Let's take the data on the activity of the application users. Let's say some event (events) were implemented at a certain point in time, for example, promotions or discounts or the addition of exclusive material. Let's try to understand how events affect the user's purchasing power by analyzing the effect of all events on the product, as well as separately and compare the impact (i.e. determine which event was more effective)."
   ]
  },
  {
   "cell_type": "code",
   "execution_count": 2,
   "metadata": {},
   "outputs": [],
   "source": [
    "# Data load\n",
    "raw_data = pd.read_csv('ImitationData.csv')\n",
    "raw_data['date'] =  pd.to_datetime(raw_data['date'], format='%Y-%m-%d')\n",
    "data = raw_data"
   ]
  },
  {
   "cell_type": "markdown",
   "metadata": {},
   "source": [
    "We have the next table:"
   ]
  },
  {
   "cell_type": "code",
   "execution_count": 3,
   "metadata": {},
   "outputs": [
    {
     "data": {
      "text/html": [
       "<div>\n",
       "<style scoped>\n",
       "    .dataframe tbody tr th:only-of-type {\n",
       "        vertical-align: middle;\n",
       "    }\n",
       "\n",
       "    .dataframe tbody tr th {\n",
       "        vertical-align: top;\n",
       "    }\n",
       "\n",
       "    .dataframe thead th {\n",
       "        text-align: right;\n",
       "    }\n",
       "</style>\n",
       "<table border=\"1\" class=\"dataframe\">\n",
       "  <thead>\n",
       "    <tr style=\"text-align: right;\">\n",
       "      <th></th>\n",
       "      <th>user_id</th>\n",
       "      <th>date</th>\n",
       "      <th>revenue</th>\n",
       "      <th>event_id</th>\n",
       "      <th>price</th>\n",
       "    </tr>\n",
       "  </thead>\n",
       "  <tbody>\n",
       "    <tr>\n",
       "      <th>0</th>\n",
       "      <td>1</td>\n",
       "      <td>2019-11-19</td>\n",
       "      <td>50.788319</td>\n",
       "      <td>NaN</td>\n",
       "      <td>51.69</td>\n",
       "    </tr>\n",
       "    <tr>\n",
       "      <th>1</th>\n",
       "      <td>2</td>\n",
       "      <td>2019-11-19</td>\n",
       "      <td>49.590000</td>\n",
       "      <td>NaN</td>\n",
       "      <td>49.99</td>\n",
       "    </tr>\n",
       "    <tr>\n",
       "      <th>2</th>\n",
       "      <td>3</td>\n",
       "      <td>2019-11-19</td>\n",
       "      <td>0.000000</td>\n",
       "      <td>NaN</td>\n",
       "      <td>0.00</td>\n",
       "    </tr>\n",
       "    <tr>\n",
       "      <th>3</th>\n",
       "      <td>4</td>\n",
       "      <td>2019-11-19</td>\n",
       "      <td>49.088319</td>\n",
       "      <td>NaN</td>\n",
       "      <td>49.99</td>\n",
       "    </tr>\n",
       "    <tr>\n",
       "      <th>4</th>\n",
       "      <td>5</td>\n",
       "      <td>2019-11-19</td>\n",
       "      <td>9.798610</td>\n",
       "      <td>NaN</td>\n",
       "      <td>49.99</td>\n",
       "    </tr>\n",
       "  </tbody>\n",
       "</table>\n",
       "</div>"
      ],
      "text/plain": [
       "   user_id       date    revenue  event_id  price\n",
       "0        1 2019-11-19  50.788319       NaN  51.69\n",
       "1        2 2019-11-19  49.590000       NaN  49.99\n",
       "2        3 2019-11-19   0.000000       NaN   0.00\n",
       "3        4 2019-11-19  49.088319       NaN  49.99\n",
       "4        5 2019-11-19   9.798610       NaN  49.99"
      ]
     },
     "execution_count": 3,
     "metadata": {},
     "output_type": "execute_result"
    }
   ],
   "source": [
    "data.head()"
   ]
  },
  {
   "cell_type": "markdown",
   "metadata": {},
   "source": [
    "The table contains the user ID, the cost of the service that the user purchased, or did not purchase (in this case, the cost of the service and revenue is zero). There is also an activity date field, revenue (service cost minus taxes/fees, etc.), and an event ID field. Total events 10. Also, one event can have a different price for the user. The price may depend, for example, on the region, the configuration of the offer, customer preferences, etc.\n",
    "\n",
    "If there is no data in the event field, then the user purchased the service regardless of the event (events), for example, without activating it or receiving the newsletter, etc."
   ]
  },
  {
   "cell_type": "code",
   "execution_count": 4,
   "metadata": {},
   "outputs": [
    {
     "data": {
      "text/plain": [
       "array([nan,  8.,  1.,  3.,  5.,  4.,  6.,  2., 10.,  7.,  9.])"
      ]
     },
     "execution_count": 4,
     "metadata": {},
     "output_type": "execute_result"
    }
   ],
   "source": [
    "# Unique events\n",
    "data['event_id'].unique()"
   ]
  },
  {
   "cell_type": "markdown",
   "metadata": {},
   "source": [
    "Let's say that in the period from 23 to 26 November there was an active implementation of events, for example, access to exclusive material that was previously available to a small proportion of consumers."
   ]
  },
  {
   "cell_type": "code",
   "execution_count": 5,
   "metadata": {},
   "outputs": [],
   "source": [
    "# Set the dates\n",
    "start, end = pd.to_datetime([\"2019-11-23\", \"2019-11-26\"], format='%Y-%m-%d')\n",
    "data = data[(data['date'] >= start) & (data['date'] <= end)]"
   ]
  },
  {
   "cell_type": "markdown",
   "metadata": {},
   "source": [
    "We have a table with data from November 23 to 26. Next, we calculate the metrics.\n",
    "\n",
    "Calculations:\n",
    "\n",
    "Depositors - the number of unique payers\n",
    "\n",
    "Deposits - the sum of user deposits\n",
    "\n",
    "ARPPU = Revenue / Depositors\n",
    "\n",
    "Conversion rate = number of payments during events / total number of payments * 100%\n",
    "\n",
    "Avg Deposits per User = Deposits / number of transactions\n",
    "\n",
    "ARPU = Revenue / All Users"
   ]
  },
  {
   "cell_type": "code",
   "execution_count": 6,
   "metadata": {},
   "outputs": [],
   "source": [
    "all_users = len(data[\"user_id\"])"
   ]
  },
  {
   "cell_type": "markdown",
   "metadata": {},
   "source": [
    "## Comparison of two events with each other"
   ]
  },
  {
   "cell_type": "markdown",
   "metadata": {},
   "source": [
    "Let's look at two events, for example, events 5 and 6. Let's compare these events and draw a conclusion which of these events is more effective."
   ]
  },
  {
   "cell_type": "markdown",
   "metadata": {},
   "source": [
    "Event metrics counting function"
   ]
  },
  {
   "cell_type": "code",
   "execution_count": 7,
   "metadata": {},
   "outputs": [],
   "source": [
    "def calculation_KPIs_segment(event):\n",
    "    \n",
    "    # Number of users who reacted to the event by payment\n",
    "    Depositors = len(data[(data['event_id'] == event) & (data['price'] > 0)]['user_id'])\n",
    "    \n",
    "    # Sum of payments\n",
    "    Deposits = sum(data[data['event_id'] == event]['price'])\n",
    "    \n",
    "    # Sum of revenue\n",
    "    Revenue = sum(data[data['event_id'] == event]['revenue'])\n",
    "    \n",
    "    ARPPU = Revenue / Depositors\n",
    "    \n",
    "    # Number of users who took advantage of the event and made a payment / all users\n",
    "    ConversRate = (Depositors / all_users)*100\n",
    "    \n",
    "    AvgDepPerUser = Deposits / Depositors\n",
    "    \n",
    "    # Revenue by event/revenue by all events\n",
    "    PercentRevenue = (Revenue / sum(data[pd.notnull(data[\"event_id\"])]['revenue']))*100\n",
    "    \n",
    "    ARPU = Revenue/all_users\n",
    "    \n",
    "    # Create a data frame for convenient reading\n",
    "    total = pd.DataFrame({'Depositors': Depositors, 'Deposits': Deposits, 'Revenue' : Revenue, 'ARPPU': ARPPU, \n",
    "                             'Conversion rate': ConversRate, 'Avg Deposits per User': AvgDepPerUser, \n",
    "                             '% of Revenue': PercentRevenue, 'ARPU': ARPU}, index=[0])\n",
    "    return total"
   ]
  },
  {
   "cell_type": "markdown",
   "metadata": {},
   "source": [
    "Let's look at the metric results for event 5"
   ]
  },
  {
   "cell_type": "code",
   "execution_count": 8,
   "metadata": {},
   "outputs": [
    {
     "data": {
      "text/html": [
       "<div>\n",
       "<style scoped>\n",
       "    .dataframe tbody tr th:only-of-type {\n",
       "        vertical-align: middle;\n",
       "    }\n",
       "\n",
       "    .dataframe tbody tr th {\n",
       "        vertical-align: top;\n",
       "    }\n",
       "\n",
       "    .dataframe thead th {\n",
       "        text-align: right;\n",
       "    }\n",
       "</style>\n",
       "<table border=\"1\" class=\"dataframe\">\n",
       "  <thead>\n",
       "    <tr style=\"text-align: right;\">\n",
       "      <th></th>\n",
       "      <th>Depositors</th>\n",
       "      <th>Deposits</th>\n",
       "      <th>Revenue</th>\n",
       "      <th>ARPPU</th>\n",
       "      <th>Conversion rate</th>\n",
       "      <th>Avg Deposits per User</th>\n",
       "      <th>% of Revenue</th>\n",
       "      <th>ARPU</th>\n",
       "    </tr>\n",
       "  </thead>\n",
       "  <tbody>\n",
       "    <tr>\n",
       "      <th>0</th>\n",
       "      <td>248</td>\n",
       "      <td>4931.22</td>\n",
       "      <td>4007.454409</td>\n",
       "      <td>16.15909</td>\n",
       "      <td>2.926599</td>\n",
       "      <td>19.883952</td>\n",
       "      <td>3.591447</td>\n",
       "      <td>0.472912</td>\n",
       "    </tr>\n",
       "  </tbody>\n",
       "</table>\n",
       "</div>"
      ],
      "text/plain": [
       "   Depositors  Deposits      Revenue     ARPPU  Conversion rate  \\\n",
       "0         248   4931.22  4007.454409  16.15909         2.926599   \n",
       "\n",
       "   Avg Deposits per User  % of Revenue      ARPU  \n",
       "0              19.883952      3.591447  0.472912  "
      ]
     },
     "execution_count": 8,
     "metadata": {},
     "output_type": "execute_result"
    }
   ],
   "source": [
    "kpi_segment_first = calculation_KPIs_segment(5)\n",
    "kpi_segment_first"
   ]
  },
  {
   "cell_type": "markdown",
   "metadata": {},
   "source": [
    "Let's look at the metric results for event 6"
   ]
  },
  {
   "cell_type": "code",
   "execution_count": 9,
   "metadata": {},
   "outputs": [
    {
     "data": {
      "text/html": [
       "<div>\n",
       "<style scoped>\n",
       "    .dataframe tbody tr th:only-of-type {\n",
       "        vertical-align: middle;\n",
       "    }\n",
       "\n",
       "    .dataframe tbody tr th {\n",
       "        vertical-align: top;\n",
       "    }\n",
       "\n",
       "    .dataframe thead th {\n",
       "        text-align: right;\n",
       "    }\n",
       "</style>\n",
       "<table border=\"1\" class=\"dataframe\">\n",
       "  <thead>\n",
       "    <tr style=\"text-align: right;\">\n",
       "      <th></th>\n",
       "      <th>Depositors</th>\n",
       "      <th>Deposits</th>\n",
       "      <th>Revenue</th>\n",
       "      <th>ARPPU</th>\n",
       "      <th>Conversion rate</th>\n",
       "      <th>Avg Deposits per User</th>\n",
       "      <th>% of Revenue</th>\n",
       "      <th>ARPU</th>\n",
       "    </tr>\n",
       "  </thead>\n",
       "  <tbody>\n",
       "    <tr>\n",
       "      <th>0</th>\n",
       "      <td>433</td>\n",
       "      <td>6449.47</td>\n",
       "      <td>5415.174479</td>\n",
       "      <td>12.506177</td>\n",
       "      <td>5.109747</td>\n",
       "      <td>14.89485</td>\n",
       "      <td>4.853034</td>\n",
       "      <td>0.639034</td>\n",
       "    </tr>\n",
       "  </tbody>\n",
       "</table>\n",
       "</div>"
      ],
      "text/plain": [
       "   Depositors  Deposits      Revenue      ARPPU  Conversion rate  \\\n",
       "0         433   6449.47  5415.174479  12.506177         5.109747   \n",
       "\n",
       "   Avg Deposits per User  % of Revenue      ARPU  \n",
       "0               14.89485      4.853034  0.639034  "
      ]
     },
     "execution_count": 9,
     "metadata": {},
     "output_type": "execute_result"
    }
   ],
   "source": [
    "kpi_segment_second = calculation_KPIs_segment(6)\n",
    "kpi_segment_second"
   ]
  },
  {
   "cell_type": "markdown",
   "metadata": {},
   "source": [
    "The function showed that event 6 was more popular as more users took advantage of it. Accordingly, the metrics Deposits, Revenue,% of Revenue, ARPU, and Conversion rate are also higher than for event 5. The average payment and ARPPU for event 5 are higher, which means that the price of the service for event 5 was higher than for event 6. Let's check whether this is. Let's look at price distributions for events:"
   ]
  },
  {
   "cell_type": "code",
   "execution_count": 10,
   "metadata": {},
   "outputs": [
    {
     "data": {
      "image/png": "[encoded data removed]",
      "text/plain": [
       "<Figure size 432x288 with 1 Axes>"
      ]
     },
     "metadata": {
      "needs_background": "light"
     },
     "output_type": "display_data"
    }
   ],
   "source": [
    "# Join data with 5 and 6 events to a general data frame\n",
    "first = data[(data['event_id'] == 5) & (data['price'] > 0)].reset_index()\n",
    "second = data[(data['event_id'] == 6) & (data['price'] > 0)].reset_index()\n",
    "\n",
    "first_and_second_events = pd.concat([first, second])\n",
    "\n",
    "sns.distplot(first_and_second_events[first_and_second_events['event_id'] == 5]['price'],  kde=False, label='5 evet')\n",
    "sns.distplot(first_and_second_events[first_and_second_events['event_id'] == 6]['price'],  kde=False, label='6 evet')\n",
    "plt.gcf().autofmt_xdate()\n",
    "plt.legend(bbox_to_anchor=(1.05, 1), loc=2, borderaxespad=0.)\n",
    "plt.title('Price distribution for 5th and 6th events');"
   ]
  },
  {
   "cell_type": "markdown",
   "metadata": {},
   "source": [
    "The distribution showed that the prices of the 5th event are higher than the 6th, but let's try to look at the medians. We do not look at the average value, since the price distribution is not symmetric and the median better characterizes the average value in this case."
   ]
  },
  {
   "cell_type": "code",
   "execution_count": 11,
   "metadata": {},
   "outputs": [
    {
     "name": "stdout",
     "output_type": "stream",
     "text": [
      "The average price for 5 event =  9.99\n",
      "The average price for 6 event  =  9.99\n"
     ]
    }
   ],
   "source": [
    "print(\"The average price for 5 event = \", \n",
    "      st.median(first_and_second_events[first_and_second_events['event_id'] == 5]['price']))\n",
    "print(\"The average price for 6 event  = \", \n",
    "      st.median(first_and_second_events[first_and_second_events['event_id'] == 6]['price']))"
   ]
  },
  {
   "cell_type": "markdown",
   "metadata": {},
   "source": [
    "The average price for 5 and 6 events are same, therefore, we analyze the Avg Deposits per User and ARPPU metrics as follows: the price range for event 5 is wider than for event 6, so the average check and revenue per paying user is higher for event 5.\n",
    "Let's look at a scatter plot:"
   ]
  },
  {
   "cell_type": "code",
   "execution_count": 12,
   "metadata": {},
   "outputs": [
    {
     "data": {
      "image/png": "[encoded data removed]",
      "text/plain": [
       "<Figure size 409.875x360 with 6 Axes>"
      ]
     },
     "metadata": {
      "needs_background": "light"
     },
     "output_type": "display_data"
    }
   ],
   "source": [
    "sns.pairplot(first_and_second_events, hue=\"event_id\", vars = ['price', 'revenue'],\n",
    "             markers=[\"D\", \"s\"], palette=sns.color_palette(palette, 10))\n",
    "plt.title('The relationship between the two events')\n",
    "plt.gcf().autofmt_xdate()"
   ]
  },
  {
   "cell_type": "markdown",
   "metadata": {},
   "source": [
    "The scatter plot shows that there is more data for event 6, that the maximum price and revenue values belongs to event 5. The price-revenue correlation is also visible. The diagonal shows the plots of price and revenue density.\n",
    "\n",
    "Next, let's see the revenue by day:"
   ]
  },
  {
   "cell_type": "code",
   "execution_count": 13,
   "metadata": {
    "scrolled": true
   },
   "outputs": [
    {
     "data": {
      "image/png": "[encoded data removed]",
      "text/plain": [
       "<Figure size 432x288 with 1 Axes>"
      ]
     },
     "metadata": {
      "needs_background": "light"
     },
     "output_type": "display_data"
    }
   ],
   "source": [
    "plt.figure()\n",
    "ax = sns.barplot(data=first_and_second_events, x=\"date\", y=\"revenue\", hue=\"event_id\", ci = None, estimator=sum)\n",
    "ax.set_ylabel('Revenue')\n",
    "ax.set_xticklabels(first_and_second_events['date'].dt.strftime('%d-%m').unique(), rotation='vertical')\n",
    "plt.gcf().autofmt_xdate()\n",
    "plt.legend(bbox_to_anchor=(1.05, 1), loc=2, borderaxespad=0.)\n",
    "plt.title('Daily revenue by two events')\n",
    "plt.show()"
   ]
  },
  {
   "cell_type": "markdown",
   "metadata": {},
   "source": [
    "It can be seen that at the beginning the 5th event had a higger of revenue, but then it decreased and on November 26 it was not purchased at all. This situation should be investigated, perhaps users had access problems or problems on the server, etc. Event 6 shows the best result. Therefore, 6 event is more preferable.\n",
    "\n",
    "Next, let's take a look at the box plot:"
   ]
  },
  {
   "cell_type": "code",
   "execution_count": 14,
   "metadata": {},
   "outputs": [
    {
     "data": {
      "image/png": "[encoded data removed]",
      "text/plain": [
       "<Figure size 432x288 with 1 Axes>"
      ]
     },
     "metadata": {
      "needs_background": "light"
     },
     "output_type": "display_data"
    }
   ],
   "source": [
    "sns.boxplot(x=\"event_id\", y=\"revenue\", data=first_and_second_events)\n",
    "plt.title('The relationship between the two events')\n",
    "plt.gcf().autofmt_xdate();"
   ]
  },
  {
   "cell_type": "markdown",
   "metadata": {},
   "source": [
    "It is difficult to analyze this graph due to \"outliers\" - very large deviations from the average. Let's try to clear the data from too large single payments in order to see the average indicators."
   ]
  },
  {
   "cell_type": "markdown",
   "metadata": {},
   "source": [
    "Function for clearing data:"
   ]
  },
  {
   "cell_type": "code",
   "execution_count": 15,
   "metadata": {},
   "outputs": [],
   "source": [
    "def outlier_hunt(my_data):\n",
    "\n",
    "    # Detect and replace the outliers\n",
    "\n",
    "    mean_data = np.nanmean(my_data, axis=0)\n",
    "    Q1 = my_data.quantile(0.25)\n",
    "    Q3 = my_data.quantile(0.75)\n",
    "    IQR = (Q3 - Q1)*1.5\n",
    "    index_detect_1 = np.where(my_data < Q1 - IQR)\n",
    "    index_detect_2 = np.where(my_data > Q3 + IQR)\n",
    "    index = np.concatenate((index_detect_1, index_detect_2), axis=1)\n",
    "    for i in index:\n",
    "        my_data[i] = mean_data\n",
    "    return my_data"
   ]
  },
  {
   "cell_type": "code",
   "execution_count": 16,
   "metadata": {},
   "outputs": [],
   "source": [
    "# Clearing data\n",
    "first['revenue'] = outlier_hunt(first['revenue'])\n",
    "second['revenue'] = outlier_hunt(second['revenue'])\n",
    "\n",
    "new = pd.concat([first, second])"
   ]
  },
  {
   "cell_type": "code",
   "execution_count": 17,
   "metadata": {},
   "outputs": [
    {
     "data": {
      "image/png": "[encoded data removed]",
      "text/plain": [
       "<Figure size 432x288 with 1 Axes>"
      ]
     },
     "metadata": {
      "needs_background": "light"
     },
     "output_type": "display_data"
    }
   ],
   "source": [
    "sns.boxplot(x=\"event_id\", y=\"revenue\", data=new)\n",
    "plt.title('Relationships between events without large payments')\n",
    "plt.gcf().autofmt_xdate();"
   ]
  },
  {
   "cell_type": "markdown",
   "metadata": {},
   "source": [
    "We have confirmation of the above conclusions. It can be seen that the median of revenue for the 5th event is higher, and the current range is shifted to a more expensive segment."
   ]
  },
  {
   "cell_type": "markdown",
   "metadata": {},
   "source": [
    "Analysis of the metrics showed that event 6 was more effective, since more users were involved in it, therefore, the monetization metrics were higher, except for ARPPU. But it should also be understood why the 5th event was not so popular and was not used at all on the last day, perhaps the lack of advertising, the irrelevance of the offer, the high cost, problems with the server and other nuances repel the users. And in a further update, this event may become more effective."
   ]
  },
  {
   "cell_type": "markdown",
   "metadata": {},
   "source": [
    "## Analysis of all events for the period"
   ]
  },
  {
   "cell_type": "markdown",
   "metadata": {},
   "source": [
    "Function for calculating metrics for all events"
   ]
  },
  {
   "cell_type": "code",
   "execution_count": 18,
   "metadata": {},
   "outputs": [],
   "source": [
    "def calculation_KPIs_all():\n",
    "    \n",
    "    Depositors = len(data[pd.notnull(data[\"event_id\"]) & (data['price'] > 0)]['user_id'])\n",
    "    \n",
    "    Deposits = sum(data[pd.notnull(data[\"event_id\"])]['price'])\n",
    "    \n",
    "    Revenue = sum(data[pd.notnull(data[\"event_id\"])]['revenue'])\n",
    "    \n",
    "    ARPPU = Revenue / Depositors\n",
    "    \n",
    "    ConversRate = (Depositors / all_users)*100\n",
    "    \n",
    "    AvgDepPerUser = Deposits / Depositors\n",
    "    \n",
    "    ARPU = Revenue/all_users\n",
    "    \n",
    "    total = pd.DataFrame({'Depositors': Depositors, 'Deposits': Deposits, 'Revenue' : Revenue, 'ARPPU': ARPPU, \n",
    "                          'Conversion rate': ConversRate, 'Avg Deposits per User': AvgDepPerUser,  'ARPU': ARPU}, index=[0])\n",
    "    return total"
   ]
  },
  {
   "cell_type": "markdown",
   "metadata": {},
   "source": [
    "Function results for all events"
   ]
  },
  {
   "cell_type": "code",
   "execution_count": 19,
   "metadata": {},
   "outputs": [
    {
     "data": {
      "text/html": [
       "<div>\n",
       "<style scoped>\n",
       "    .dataframe tbody tr th:only-of-type {\n",
       "        vertical-align: middle;\n",
       "    }\n",
       "\n",
       "    .dataframe tbody tr th {\n",
       "        vertical-align: top;\n",
       "    }\n",
       "\n",
       "    .dataframe thead th {\n",
       "        text-align: right;\n",
       "    }\n",
       "</style>\n",
       "<table border=\"1\" class=\"dataframe\">\n",
       "  <thead>\n",
       "    <tr style=\"text-align: right;\">\n",
       "      <th></th>\n",
       "      <th>Depositors</th>\n",
       "      <th>Deposits</th>\n",
       "      <th>Revenue</th>\n",
       "      <th>ARPPU</th>\n",
       "      <th>Conversion rate</th>\n",
       "      <th>Avg Deposits per User</th>\n",
       "      <th>ARPU</th>\n",
       "    </tr>\n",
       "  </thead>\n",
       "  <tbody>\n",
       "    <tr>\n",
       "      <th>0</th>\n",
       "      <td>5534</td>\n",
       "      <td>127429.86</td>\n",
       "      <td>111583.267818</td>\n",
       "      <td>20.163222</td>\n",
       "      <td>65.305641</td>\n",
       "      <td>23.026718</td>\n",
       "      <td>13.167721</td>\n",
       "    </tr>\n",
       "  </tbody>\n",
       "</table>\n",
       "</div>"
      ],
      "text/plain": [
       "   Depositors   Deposits        Revenue      ARPPU  Conversion rate  \\\n",
       "0        5534  127429.86  111583.267818  20.163222        65.305641   \n",
       "\n",
       "   Avg Deposits per User       ARPU  \n",
       "0              23.026718  13.167721  "
      ]
     },
     "execution_count": 19,
     "metadata": {},
     "output_type": "execute_result"
    }
   ],
   "source": [
    "kpi_all = calculation_KPIs_all()\n",
    "kpi_all"
   ]
  },
  {
   "cell_type": "markdown",
   "metadata": {},
   "source": [
    "The output of the result shows not bad values, but for completeness of the assessment, it is necessary to compare the values before and after the launch of events. So you can understand whether we have increased monetization by events, or the events have not influenced in any way. For now, let's stay on this result and analyze all the events.\n",
    "\n",
    "Let's look at the popularity of events:"
   ]
  },
  {
   "cell_type": "code",
   "execution_count": 20,
   "metadata": {},
   "outputs": [
    {
     "data": {
      "image/png": "[encoded data removed]",
      "text/plain": [
       "<Figure size 432x288 with 1 Axes>"
      ]
     },
     "metadata": {
      "needs_background": "light"
     },
     "output_type": "display_data"
    }
   ],
   "source": [
    "sns.countplot(data['event_id'])\n",
    "plt.title('Number of users by the event')\n",
    "plt.gcf().autofmt_xdate()"
   ]
  },
  {
   "cell_type": "markdown",
   "metadata": {},
   "source": [
    "It can be seen that the most popular event is 10. Also, events 1, 2, 3, 4, and 8 turned out to have the least number of involved users. Next, let's see the revenue for the event:"
   ]
  },
  {
   "cell_type": "code",
   "execution_count": 21,
   "metadata": {},
   "outputs": [
    {
     "data": {
      "image/png": "[encoded data removed]",
      "text/plain": [
       "<Figure size 432x288 with 1 Axes>"
      ]
     },
     "metadata": {
      "needs_background": "light"
     },
     "output_type": "display_data"
    }
   ],
   "source": [
    "plt.figure()\n",
    "ax = sns.barplot(data=data, x=\"event_id\", y=\"revenue\", ci = None, estimator=sum)\n",
    "plt.gcf().autofmt_xdate()\n",
    "plt.title('Revenue by the event')\n",
    "plt.show()"
   ]
  },
  {
   "cell_type": "markdown",
   "metadata": {},
   "source": [
    "It can be seen that this plot corresponds to the popularity plot. More users mean more revenue.\n",
    "\n",
    "Next, let's look at the average price of services by event:"
   ]
  },
  {
   "cell_type": "code",
   "execution_count": 22,
   "metadata": {},
   "outputs": [
    {
     "data": {
      "image/png": "[encoded data removed]",
      "text/plain": [
       "<Figure size 432x288 with 1 Axes>"
      ]
     },
     "metadata": {
      "needs_background": "light"
     },
     "output_type": "display_data"
    }
   ],
   "source": [
    "plt.figure()\n",
    "ax = sns.barplot(data=data, x=\"event_id\", y=\"price\", ci = None)\n",
    "plt.gcf().autofmt_xdate()\n",
    "plt.title('Average price of services by event')\n",
    "plt.show()"
   ]
  },
  {
   "cell_type": "markdown",
   "metadata": {},
   "source": [
    "This plot shows that user engagement does not depend on the price of the service, for example, event 1 and event 10 have the same high price, but event 10 is the most popular and profitable; event 2 has the lowest cost, but it is not popular. Then, in this case, we can say that user engagement depends on the quality/content of the event.\n",
    "\n",
    "Next, let's see how users bought services by the day:"
   ]
  },
  {
   "cell_type": "code",
   "execution_count": 23,
   "metadata": {},
   "outputs": [
    {
     "data": {
      "image/png": "[encoded data removed]",
      "text/plain": [
       "<Figure size 432x288 with 1 Axes>"
      ]
     },
     "metadata": {
      "needs_background": "light"
     },
     "output_type": "display_data"
    }
   ],
   "source": [
    "plt.figure()\n",
    "ax = sns.barplot(data=data, x=\"date\", y=\"revenue\", hue=\"event_id\", saturation=0.9, ci = None, estimator=sum)\n",
    "ax.set_ylabel('Revenue')\n",
    "ax.set_xticklabels(data['date'].dt.strftime('%d-%m').unique(), rotation='vertical')\n",
    "plt.legend(bbox_to_anchor=(1.05, 1), loc=2, borderaxespad=0.)\n",
    "plt.title('Revenue by the day')\n",
    "plt.gcf().autofmt_xdate()\n",
    "plt.show()"
   ]
  },
  {
   "cell_type": "markdown",
   "metadata": {},
   "source": [
    "You can see that event 10 has the highest revenue, but there are also events that were not used on someday at all. It should be clarified in more detail, for example, was it a server problem, etc.\n",
    "\n",
    "Below is a similar line plot:"
   ]
  },
  {
   "cell_type": "code",
   "execution_count": 24,
   "metadata": {},
   "outputs": [
    {
     "data": {
      "image/png": "[encoded data removed]",
      "text/plain": [
       "<Figure size 432x288 with 1 Axes>"
      ]
     },
     "metadata": {
      "needs_background": "light"
     },
     "output_type": "display_data"
    }
   ],
   "source": [
    "ax = sns.lineplot(x=\"date\", y=\"revenue\", hue=\"event_id\",\n",
    "                  data=data, legend = 'full', palette=sns.color_palette(palette, 10),\n",
    "                  ci = None, estimator=sum)\n",
    "plt.legend(bbox_to_anchor=(1.05, 1), loc=2, borderaxespad=0.)\n",
    "plt.title('Revenue by the day')\n",
    "plt.gcf().autofmt_xdate()"
   ]
  },
  {
   "cell_type": "markdown",
   "metadata": {},
   "source": [
    "Let's see on the box plot"
   ]
  },
  {
   "cell_type": "code",
   "execution_count": 25,
   "metadata": {},
   "outputs": [
    {
     "data": {
      "image/png": "[encoded data removed]",
      "text/plain": [
       "<Figure size 432x288 with 1 Axes>"
      ]
     },
     "metadata": {
      "needs_background": "light"
     },
     "output_type": "display_data"
    }
   ],
   "source": [
    "sns.boxplot(x=\"event_id\", y=\"revenue\", data=data)\n",
    "plt.title('Relationship between all events')\n",
    "plt.gcf().autofmt_xdate();"
   ]
  },
  {
   "cell_type": "markdown",
   "metadata": {},
   "source": [
    "Let's use data cleansing again for better data visualization"
   ]
  },
  {
   "cell_type": "code",
   "execution_count": 26,
   "metadata": {},
   "outputs": [],
   "source": [
    "# Clearing data\n",
    "event = [1, 2, 3, 4, 5, 6, 7, 8, 9, 10]\n",
    "data_without_outliers = []\n",
    "for i in event:\n",
    "    by_event = data[(data['event_id'] == i) & (data['price'] > 0)].reset_index()\n",
    "    by_event['revenue'] = outlier_hunt(by_event['revenue'])\n",
    "    data_without_outliers.append(by_event)\n",
    "for_boxplot = pd.concat(data_without_outliers)"
   ]
  },
  {
   "cell_type": "markdown",
   "metadata": {},
   "source": [
    "The plot on the clean data:"
   ]
  },
  {
   "cell_type": "code",
   "execution_count": 27,
   "metadata": {},
   "outputs": [
    {
     "data": {
      "image/png": "[encoded data removed]",
      "text/plain": [
       "<Figure size 432x288 with 1 Axes>"
      ]
     },
     "metadata": {
      "needs_background": "light"
     },
     "output_type": "display_data"
    }
   ],
   "source": [
    "sns.boxplot(x=\"event_id\", y=\"revenue\", data=for_boxplot)\n",
    "plt.title('Relationship between all events without outliers')\n",
    "plt.gcf().autofmt_xdate();"
   ]
  },
  {
   "attachments": {
    "Screenshot_1.png": {
     "image/png": "[encoded data removed]"
    }
   },
   "cell_type": "markdown",
   "metadata": {},
   "source": [
    "It can be seen that for events 8, 9, and 10, the medians are almost the same, but the maximum value belongs to event 10. Also, users always bought the services of events 2, 4, 5, 9, and 10, since, for example, event 1 has a value at zero, which talks about not buying:![Screenshot_1.png](attachment:Screenshot_1.png)"
   ]
  },
  {
   "cell_type": "markdown",
   "metadata": {},
   "source": [
    "Let's see the total revenue by day:"
   ]
  },
  {
   "cell_type": "code",
   "execution_count": 28,
   "metadata": {},
   "outputs": [],
   "source": [
    "# Let's look at revenue by day. To do this, we group by date\n",
    "line_sum = pd.DataFrame(data.groupby(['date'])['revenue'].sum())\n",
    "line_avg = pd.DataFrame(data.groupby(['date'])['revenue'].mean())"
   ]
  },
  {
   "cell_type": "code",
   "execution_count": 29,
   "metadata": {},
   "outputs": [
    {
     "data": {
      "image/png": "[encoded data removed]",
      "text/plain": [
       "<Figure size 432x288 with 1 Axes>"
      ]
     },
     "metadata": {
      "needs_background": "light"
     },
     "output_type": "display_data"
    },
    {
     "data": {
      "image/png": "[encoded data removed]",
      "text/plain": [
       "<Figure size 432x288 with 1 Axes>"
      ]
     },
     "metadata": {
      "needs_background": "light"
     },
     "output_type": "display_data"
    }
   ],
   "source": [
    "line_sum.plot(title = 'Revenue by day', color = '#ff6d69');\n",
    "line_avg.plot(title = 'AVG Revenue by day', color = '#ff6d69');"
   ]
  },
  {
   "cell_type": "markdown",
   "metadata": {},
   "source": [
    "It can be seen that the revenue is decreasing. This may indicate that the majority of users to make a purchase on the first day of the start of the event. But the discontinuous behavior of events says that it still needs to be checked for technical aspects (server, access, etc.)"
   ]
  },
  {
   "cell_type": "markdown",
   "metadata": {},
   "source": [
    "# Analysis of the outcome and post-purchase activity"
   ]
  },
  {
   "cell_type": "markdown",
   "metadata": {},
   "source": [
    "In order to analyze the result and post-purchase activity, it is necessary to look at the payment data before the start of events and the payment data after the end of the events. Since the events lasted 4 days, let's analyze, for example, 4 days before the start of the events and 4 days after the events."
   ]
  },
  {
   "cell_type": "code",
   "execution_count": 30,
   "metadata": {},
   "outputs": [],
   "source": [
    "# Setting intervals\n",
    "first_day_b, last_day_b = pd.to_datetime([\"2019-11-19\", \"2019-11-22\"], format='%Y-%m-%d')\n",
    "first_day_a, last_day_a = pd.to_datetime([\"2019-11-27\", \"2019-11-30\"], format='%Y-%m-%d')"
   ]
  },
  {
   "cell_type": "code",
   "execution_count": 31,
   "metadata": {},
   "outputs": [],
   "source": [
    "# Create separate frames for data before and after events\n",
    "before_sales = raw_data[(raw_data['date'] >= first_day_b) & (raw_data['date'] <= last_day_b)]\n",
    "after_sales = raw_data[(raw_data['date'] >= first_day_a) & (raw_data['date'] <= last_day_a)]"
   ]
  },
  {
   "cell_type": "markdown",
   "metadata": {},
   "source": [
    "Let's see some metrics:"
   ]
  },
  {
   "cell_type": "markdown",
   "metadata": {},
   "source": [
    "Revenue"
   ]
  },
  {
   "cell_type": "code",
   "execution_count": 32,
   "metadata": {},
   "outputs": [
    {
     "name": "stdout",
     "output_type": "stream",
     "text": [
      "Revenue for November 19, 20, 21, 22 =  51437.16990750564 \n",
      "Revenue for November 23, 24, 25, 26 =  111583.26781793157 \n",
      "Revenue for November 27, 28, 29, 30 =  49773.388633843875\n"
     ]
    }
   ],
   "source": [
    "revenue_before = sum(before_sales['revenue'])\n",
    "revenue_after = sum(after_sales['revenue'])\n",
    "print('Revenue for November 19, 20, 21, 22 = ', revenue_before,\n",
    "      '\\nRevenue for November 23, 24, 25, 26 = ', kpi_all['Revenue'].loc[0],\n",
    "      '\\nRevenue for November 27, 28, 29, 30 = ', revenue_after)"
   ]
  },
  {
   "cell_type": "markdown",
   "metadata": {},
   "source": [
    "There is an increase in revenue during the events, as well as a decline after. This is due to the fact that many users bought a resource during events, and he will need a new one after some time."
   ]
  },
  {
   "cell_type": "markdown",
   "metadata": {},
   "source": [
    "Depositors"
   ]
  },
  {
   "cell_type": "code",
   "execution_count": 33,
   "metadata": {},
   "outputs": [
    {
     "name": "stdout",
     "output_type": "stream",
     "text": [
      "Paying users before events: 2655 \n",
      "Paying users during events: 5534 \n",
      "Paying users after events: 2788\n"
     ]
    }
   ],
   "source": [
    "print('Paying users before events:', len(before_sales[before_sales['price'] > 0]['user_id']), \n",
    "      '\\nPaying users during events:', kpi_all['Depositors'].loc[0],\n",
    "      '\\nPaying users after events:', len(after_sales[after_sales['price'] > 0]['user_id']))"
   ]
  },
  {
   "cell_type": "markdown",
   "metadata": {},
   "source": [
    "It can be seen that during the events, users made more payments. But also the metric indicator after the events is higher than before the events, although the revenue is less. This suggests that users are making less expensive purchases after the events than before the events."
   ]
  },
  {
   "cell_type": "markdown",
   "metadata": {},
   "source": [
    "ARPPU"
   ]
  },
  {
   "cell_type": "code",
   "execution_count": 34,
   "metadata": {},
   "outputs": [
    {
     "name": "stdout",
     "output_type": "stream",
     "text": [
      "ARPPU before sales: 14.400103557532374 \n",
      "ARPPU during sales: 20.163221506673576 \n",
      "ARPPU after sales: 13.039923666189122\n"
     ]
    }
   ],
   "source": [
    "print('ARPPU before sales:', sum(before_sales['revenue'])/len(before_sales), \n",
    "      '\\nARPPU during sales:', kpi_all['ARPPU'].loc[0],\n",
    "      '\\nARPPU after sales:', sum(after_sales['revenue'])/len(after_sales))"
   ]
  },
  {
   "cell_type": "markdown",
   "metadata": {},
   "source": [
    "The metric shows that the introduction of events had a positive impact on the product. An increase in the metric is visible. After the events, the metric decreases, which is not strange after special offers, discounts, etc.\n",
    "\n",
    "In general, we have a positive result. The implementation of events showed an increase in monetization metrics. It should also be clarified whether there were any problems with the server since some events had a sharp decline or were not used at all on someday. If no technical problems were found, then such unpopular events can not be used in the future, but concentrate on profitable ones, improving and updating them."
   ]
  }
 ],
 "metadata": {
  "kernelspec": {
   "display_name": "Python 3",
   "language": "python",
   "name": "python3"
  },
  "language_info": {
   "codemirror_mode": {
    "name": "ipython",
    "version": 3
   },
   "file_extension": ".py",
   "mimetype": "text/x-python",
   "name": "python",
   "nbconvert_exporter": "python",
   "pygments_lexer": "ipython3",
   "version": "3.7.3"
  },
  "toc": {
   "base_numbering": 1,
   "nav_menu": {},
   "number_sections": false,
   "sideBar": true,
   "skip_h1_title": false,
   "title_cell": "Table of Contents",
   "title_sidebar": "Contents",
   "toc_cell": false,
   "toc_position": {
    "height": "calc(100% - 180px)",
    "left": "10px",
    "top": "150px",
    "width": "169.2px"
   },
   "toc_section_display": true,
   "toc_window_display": true
  },
  "varInspector": {
   "cols": {
    "lenName": 16,
    "lenType": 16,
    "lenVar": 40
   },
   "kernels_config": {
    "python": {
     "delete_cmd_postfix": "",
     "delete_cmd_prefix": "del ",
     "library": "var_list.py",
     "varRefreshCmd": "print(var_dic_list())"
    },
    "r": {
     "delete_cmd_postfix": ") ",
     "delete_cmd_prefix": "rm(",
     "library": "var_list.r",
     "varRefreshCmd": "cat(var_dic_list()) "
    }
   },
   "types_to_exclude": [
    "module",
    "function",
    "builtin_function_or_method",
    "instance",
    "_Feature"
   ],
   "window_display": false
  }
 },
 "nbformat": 4,
 "nbformat_minor": 2
}
